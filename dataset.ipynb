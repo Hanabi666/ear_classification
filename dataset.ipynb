{
 "metadata": {
  "language_info": {
   "codemirror_mode": {
    "name": "ipython",
    "version": 3
   },
   "file_extension": ".py",
   "mimetype": "text/x-python",
   "name": "python",
   "nbconvert_exporter": "python",
   "pygments_lexer": "ipython3",
   "version": "3.8.3-final"
  },
  "orig_nbformat": 2,
  "kernelspec": {
   "name": "python3",
   "display_name": "Python 3",
   "language": "python"
  }
 },
 "nbformat": 4,
 "nbformat_minor": 2,
 "cells": [
  {
   "cell_type": "code",
   "execution_count": 25,
   "metadata": {},
   "outputs": [],
   "source": [
    "import os\n",
    "import random\n",
    "import shutil"
   ]
  },
  {
   "cell_type": "code",
   "execution_count": 26,
   "metadata": {},
   "outputs": [
    {
     "output_type": "stream",
     "name": "stdout",
     "text": [
      "['垂耳', '招风耳', '杯状耳', '狒狒耳', '环缩耳', '耳甲腔狭窄', '耳轮畸形', '耳轮脚横突', '隐耳']\n"
     ]
    }
   ],
   "source": [
    "root = 'F:/ear_classifier_demo_1/data/原数据'\n",
    "imgs = os.listdir(root)\n",
    "print(imgs)"
   ]
  },
  {
   "cell_type": "code",
   "execution_count": 27,
   "metadata": {},
   "outputs": [
    {
     "output_type": "stream",
     "name": "stdout",
     "text": [
      "['F:/ear_classifier_demo_1/data/原数据/垂耳', 'F:/ear_classifier_demo_1/data/原数据/招风耳', 'F:/ear_classifier_demo_1/data/原数据/杯状耳', 'F:/ear_classifier_demo_1/data/原数据/狒狒耳', 'F:/ear_classifier_demo_1/data/原数据/环缩耳', 'F:/ear_classifier_demo_1/data/原数据/耳甲腔狭窄', 'F:/ear_classifier_demo_1/data/原数据/耳轮畸形', 'F:/ear_classifier_demo_1/data/原数据/耳轮脚横突', 'F:/ear_classifier_demo_1/data/原数据/隐耳']\n"
     ]
    }
   ],
   "source": [
    "imgs = ['F:/ear_classifier_demo_1/data/原数据/' + x for x in imgs]\n",
    "print(imgs)"
   ]
  },
  {
   "cell_type": "code",
   "execution_count": 28,
   "metadata": {
    "tags": []
   },
   "outputs": [],
   "source": [
    "\"\"\"\n",
    "val = []\n",
    "for i in imgs:\n",
    "    img_ = os.listdir(i)\n",
    "    random.shuffle(img_)\n",
    "    val = img_[0: int(0.2*len(img_))]\n",
    "    val = [i + '/' + x for x in val]\n",
    "    for j in val:\n",
    "        try:\n",
    "            shutil.move(j, 'F:/ear_classifier_demo_1/data/JPEGImages/test')\n",
    "        except shutil.Error:\n",
    "            os.remove(j)\n",
    "\"\"\""
   ]
  },
  {
   "cell_type": "code",
   "execution_count": 29,
   "metadata": {},
   "outputs": [],
   "source": [
    "tra = []\n",
    "for i in imgs:\n",
    "    img_ = os.listdir(i)\n",
    "    #random.shuffle(img_)\n",
    "    tra = img_\n",
    "    tra = [i + '/' + x for x in tra]\n",
    "    for j in tra:\n",
    "        try:\n",
    "            shutil.move(j, 'F:/ear_classifier_demo_1/data/JPEGImages/train')\n",
    "        except shutil.Error:\n",
    "            os.remove(j)"
   ]
  },
  {
   "cell_type": "code",
   "execution_count": null,
   "metadata": {},
   "outputs": [],
   "source": []
  }
 ]
}